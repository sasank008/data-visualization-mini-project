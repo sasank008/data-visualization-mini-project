{
 "cells": [
  {
   "cell_type": "markdown",
   "id": "e8c05c1a",
   "metadata": {},
   "source": [
    "# Retail Store Sales Analytics\n",
    "\n",
    "This notebook analyzes sales data from a retail store and generates business insights.\n"
   ]
  },
  {
   "cell_type": "code",
   "execution_count": null,
   "id": "010d0ce3",
   "metadata": {
    "vscode": {
     "languageId": "plaintext"
    }
   },
   "outputs": [],
   "source": [
    "import pandas as pd\n",
    "import matplotlib.pyplot as plt\n",
    "import seaborn as sns\n",
    "\n",
    "df = pd.read_csv(\"../data/Superstore.csv\", encoding=\"latin1\")\n",
    "df['Order Date'] = pd.to_datetime(df['Order Date'])\n"
   ]
  },
  {
   "cell_type": "markdown",
   "id": "bf625fe3",
   "metadata": {},
   "source": [
    "## 1️⃣ Monthly Sales Trend\n",
    "Analyze how sales change month by month.\n"
   ]
  },
  {
   "cell_type": "code",
   "execution_count": null,
   "id": "e096e2c0",
   "metadata": {
    "vscode": {
     "languageId": "plaintext"
    }
   },
   "outputs": [],
   "source": [
    "sales_trend = df.groupby(df['Order Date'].dt.to_period(\"M\"))['Sales'].sum()\n",
    "plt.figure(figsize=(10,5))\n",
    "sales_trend.plot(marker='o')\n",
    "plt.title(\"Monthly Sales Trend\")\n",
    "plt.ylabel(\"Sales\")\n",
    "plt.show()\n"
   ]
  },
  {
   "cell_type": "markdown",
   "id": "79ffc9ae",
   "metadata": {},
   "source": [
    "## 2️⃣ Category-wise Sales\n",
    "Which product categories generate the most revenue?\n"
   ]
  },
  {
   "cell_type": "code",
   "execution_count": null,
   "id": "912a683c",
   "metadata": {
    "vscode": {
     "languageId": "plaintext"
    }
   },
   "outputs": [],
   "source": [
    "category_sales = df.groupby(\"Category\")['Sales'].sum().sort_values(ascending=False)\n",
    "plt.figure(figsize=(7,5))\n",
    "category_sales.plot(kind='bar', color=\"skyblue\")\n",
    "plt.title(\"Sales by Category\")\n",
    "plt.ylabel(\"Total Sales\")\n",
    "plt.show()\n"
   ]
  },
  {
   "cell_type": "markdown",
   "id": "4494cb84",
   "metadata": {},
   "source": [
    "## 3️⃣ Profit by Region\n",
    "Which region is most profitable?\n"
   ]
  },
  {
   "cell_type": "code",
   "execution_count": null,
   "id": "3efb7695",
   "metadata": {
    "vscode": {
     "languageId": "plaintext"
    }
   },
   "outputs": [],
   "source": [
    "region_profit = df.groupby(\"Region\")['Profit'].sum().sort_values(ascending=False)\n",
    "plt.figure(figsize=(7,5))\n",
    "region_profit.plot(kind='bar', color=\"green\")\n",
    "plt.title(\"Profit by Region\")\n",
    "plt.ylabel(\"Total Profit\")\n",
    "plt.show()\n"
   ]
  },
  {
   "cell_type": "markdown",
   "id": "76911163",
   "metadata": {},
   "source": [
    "## 4️⃣ Sales Heatmap (Category vs Region)\n",
    "Compare sales across categories and regions.\n"
   ]
  },
  {
   "cell_type": "code",
   "execution_count": null,
   "id": "41caab9c",
   "metadata": {
    "vscode": {
     "languageId": "plaintext"
    }
   },
   "outputs": [],
   "source": [
    "pivot = df.pivot_table(values=\"Sales\", index=\"Category\", columns=\"Region\", aggfunc=\"sum\")\n",
    "plt.figure(figsize=(7,5))\n",
    "sns.heatmap(pivot, annot=True, fmt=\".0f\", cmap=\"YlGnBu\")\n",
    "plt.title(\"Sales Heatmap (Category vs Region)\")\n",
    "plt.show()\n"
   ]
  }
 ],
 "metadata": {
  "language_info": {
   "name": "python"
  }
 },
 "nbformat": 4,
 "nbformat_minor": 5
}
